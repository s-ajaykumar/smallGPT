{
 "cells": [
  {
   "cell_type": "code",
   "execution_count": 24,
   "id": "c5c6a819-2559-4e91-89f0-c8a7cc661811",
   "metadata": {},
   "outputs": [],
   "source": [
    "import vocab\n",
    "import re\n",
    "\n",
    "import torch\n",
    "import torch.nn as nn\n",
    "import torch.nn.functional as F"
   ]
  },
  {
   "cell_type": "code",
   "execution_count": 25,
   "id": "5f647d4c",
   "metadata": {},
   "outputs": [
    {
     "data": {
      "text/plain": [
       "torch.Size([1, 5])"
      ]
     },
     "execution_count": 25,
     "metadata": {},
     "output_type": "execute_result"
    }
   ],
   "source": [
    "a = torch.tensor([[1.3456, 2.5354, 3.5787, 4.2342, 5.0788]])\n",
    "a.shape"
   ]
  },
  {
   "cell_type": "code",
   "execution_count": 23,
   "id": "957e813d",
   "metadata": {},
   "outputs": [
    {
     "data": {
      "text/plain": [
       "tensor([[0.0802, 0.1512, 0.2134, 0.2524, 0.3028]])"
      ]
     },
     "execution_count": 23,
     "metadata": {},
     "output_type": "execute_result"
    }
   ],
   "source": [
    "# Normal approach\n",
    "sum =  a.sum(dim=1)\n",
    "a/sum"
   ]
  },
  {
   "cell_type": "markdown",
   "id": "01ac7fb4",
   "metadata": {},
   "source": [
    "# General approach"
   ]
  },
  {
   "cell_type": "code",
   "execution_count": 26,
   "id": "1a487b94",
   "metadata": {},
   "outputs": [
    {
     "data": {
      "text/plain": [
       "tensor([[-3.7332, -2.5434, -1.5001, -0.8446,  0.0000]])"
      ]
     },
     "execution_count": 26,
     "metadata": {},
     "output_type": "execute_result"
    }
   ],
   "source": [
    "max = a.max(dim=1).values\n",
    "dev = a-max\n",
    "dev"
   ]
  },
  {
   "cell_type": "code",
   "execution_count": 27,
   "id": "fb162883",
   "metadata": {},
   "outputs": [
    {
     "data": {
      "text/plain": [
       "tensor([[0.0239, 0.0786, 0.2231, 0.4297, 1.0000]])"
      ]
     },
     "execution_count": 27,
     "metadata": {},
     "output_type": "execute_result"
    }
   ],
   "source": [
    "norm = dev.exp()\n",
    "norm"
   ]
  },
  {
   "cell_type": "code",
   "execution_count": 28,
   "id": "96a1236b",
   "metadata": {},
   "outputs": [
    {
     "data": {
      "text/plain": [
       "tensor(1.7554)"
      ]
     },
     "execution_count": 28,
     "metadata": {},
     "output_type": "execute_result"
    }
   ],
   "source": [
    "sum = norm.sum()\n",
    "sum"
   ]
  },
  {
   "cell_type": "code",
   "execution_count": 29,
   "id": "11e82b1a",
   "metadata": {},
   "outputs": [
    {
     "data": {
      "text/plain": [
       "tensor(0.5697)"
      ]
     },
     "execution_count": 29,
     "metadata": {},
     "output_type": "execute_result"
    }
   ],
   "source": [
    "inv = sum**-1\n",
    "inv"
   ]
  },
  {
   "cell_type": "code",
   "execution_count": 31,
   "id": "37541ac7",
   "metadata": {},
   "outputs": [
    {
     "data": {
      "text/plain": [
       "tensor([[0.0136, 0.0448, 0.1271, 0.2448, 0.5697]])"
      ]
     },
     "execution_count": 31,
     "metadata": {},
     "output_type": "execute_result"
    }
   ],
   "source": [
    "probs = norm*inv\n",
    "probs"
   ]
  },
  {
   "cell_type": "code",
   "execution_count": 37,
   "id": "3339f4b5",
   "metadata": {},
   "outputs": [
    {
     "data": {
      "text/plain": [
       "tensor([[4.2959, 3.1061, 2.0628, 1.4073, 0.5627]])"
      ]
     },
     "execution_count": 37,
     "metadata": {},
     "output_type": "execute_result"
    }
   ],
   "source": [
    "-probs.log()"
   ]
  },
  {
   "cell_type": "code",
   "execution_count": null,
   "id": "cd87c3e7",
   "metadata": {},
   "outputs": [],
   "source": []
  },
  {
   "cell_type": "code",
   "execution_count": null,
   "id": "816704df",
   "metadata": {},
   "outputs": [],
   "source": []
  }
 ],
 "metadata": {
  "kernelspec": {
   "display_name": ".venv",
   "language": "python",
   "name": "python3"
  },
  "language_info": {
   "codemirror_mode": {
    "name": "ipython",
    "version": 3
   },
   "file_extension": ".py",
   "mimetype": "text/x-python",
   "name": "python",
   "nbconvert_exporter": "python",
   "pygments_lexer": "ipython3",
   "version": "3.12.8"
  }
 },
 "nbformat": 4,
 "nbformat_minor": 5
}
