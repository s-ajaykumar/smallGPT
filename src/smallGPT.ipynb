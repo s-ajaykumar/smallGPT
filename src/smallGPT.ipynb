{
 "cells": [
  {
   "cell_type": "code",
   "execution_count": 1,
   "id": "c5c6a819-2559-4e91-89f0-c8a7cc661811",
   "metadata": {},
   "outputs": [],
   "source": [
    "import vocab\n",
    "import re\n",
    "\n",
    "import torch\n",
    "import torch.nn as nn\n",
    "import torch.nn.functional as F"
   ]
  },
  {
   "cell_type": "code",
   "execution_count": null,
   "id": "693e4deb",
   "metadata": {},
   "outputs": [
    {
     "name": "stdout",
     "output_type": "stream",
     "text": [
      "torch.Size([])\n"
     ]
    },
    {
     "ename": "RuntimeError",
     "evalue": "zero-dimensional tensor (at position 0) cannot be concatenated",
     "output_type": "error",
     "traceback": [
      "\u001b[31m---------------------------------------------------------------------------\u001b[39m",
      "\u001b[31mRuntimeError\u001b[39m                              Traceback (most recent call last)",
      "\u001b[36mCell\u001b[39m\u001b[36m \u001b[39m\u001b[32mIn[6]\u001b[39m\u001b[32m, line 4\u001b[39m\n\u001b[32m      2\u001b[39m b = torch.tensor([\u001b[32m3\u001b[39m])\n\u001b[32m      3\u001b[39m \u001b[38;5;28mprint\u001b[39m(a.shape)\n\u001b[32m----> \u001b[39m\u001b[32m4\u001b[39m \u001b[43mtorch\u001b[49m\u001b[43m.\u001b[49m\u001b[43mcat\u001b[49m\u001b[43m(\u001b[49m\u001b[43m(\u001b[49m\u001b[43ma\u001b[49m\u001b[43m,\u001b[49m\u001b[43m \u001b[49m\u001b[43mb\u001b[49m\u001b[43m)\u001b[49m\u001b[43m)\u001b[49m\n",
      "\u001b[31mRuntimeError\u001b[39m: zero-dimensional tensor (at position 0) cannot be concatenated"
     ]
    }
   ],
   "source": [
    "a = torch.tensor([1])\n",
    "b = torch.tensor([3])\n",
    "print(a.shape)\n",
    "torch.cat((a, b))"
   ]
  },
  {
   "cell_type": "code",
   "execution_count": 2,
   "id": "7f53206f",
   "metadata": {},
   "outputs": [
    {
     "name": "stdout",
     "output_type": "stream",
     "text": [
      "2 1\n"
     ]
    }
   ],
   "source": [
    "d = lambda x, ls: print(ls, x)\n",
    "d(1, 2)"
   ]
  },
  {
   "cell_type": "code",
   "execution_count": 2,
   "id": "80725efa",
   "metadata": {},
   "outputs": [
    {
     "data": {
      "text/plain": [
       "1"
      ]
     },
     "execution_count": 2,
     "metadata": {},
     "output_type": "execute_result"
    }
   ],
   "source": [
    "x = [1 , 2]\n",
    "x[0]"
   ]
  },
  {
   "cell_type": "code",
   "execution_count": 12,
   "id": "e1bfedfc",
   "metadata": {},
   "outputs": [
    {
     "name": "stdout",
     "output_type": "stream",
     "text": [
      "['a', 'c', 'd', 'e', 'f', 'd'] [0, 2, 3, 4, 5, 6]\n",
      "['a', 'c', 'e', 'f', 'd'] [0, 2, 4, 5, 6]\n",
      "['a', 'c', 'e', 'f'] [0, 2, 4, 5]\n",
      "['a', 'c', 'e', 'f']\n",
      "[0, 2, 4, 5]\n"
     ]
    }
   ],
   "source": [
    "x = ['a', 'b', 'c', 'd', 'e', 'f', 'd']\n",
    "x_ixs = [0, 1, 2, 3, 4, 5, 6]\n",
    "for i, k in enumerate(x):\n",
    "    if k in ['b', 'd']:\n",
    "        x.pop(i)\n",
    "        x_ixs.pop(i)\n",
    "        print(x, x_ixs)\n",
    "print(x)\n",
    "print(x_ixs)\n"
   ]
  },
  {
   "cell_type": "code",
   "execution_count": 2,
   "id": "c8680184",
   "metadata": {},
   "outputs": [
    {
     "data": {
      "text/plain": [
       "tensor([0.5498, 0.5987, 0.7109, 0.5548])"
      ]
     },
     "execution_count": 2,
     "metadata": {},
     "output_type": "execute_result"
    }
   ],
   "source": [
    "torch.sigmoid(torch.tensor([0.2, 0.4, 0.9, 0.22]))"
   ]
  },
  {
   "cell_type": "code",
   "execution_count": 7,
   "id": "0150454e",
   "metadata": {},
   "outputs": [
    {
     "name": "stderr",
     "output_type": "stream",
     "text": [
      "<>:1: SyntaxWarning: invalid escape sequence '\\D'\n",
      "<>:1: SyntaxWarning: invalid escape sequence '\\D'\n",
      "C:\\Users\\PC\\AppData\\Local\\Temp\\ipykernel_6848\\3709310658.py:1: SyntaxWarning: invalid escape sequence '\\D'\n",
      "  with open('D:\\DeepLearning\\smallGPT\\data\\shakesphere.txt', 'r') as f:\n"
     ]
    }
   ],
   "source": [
    "with open('D:\\DeepLearning\\smallGPT\\data\\shakesphere.txt', 'r') as f:\n",
    "    data = f.read()"
   ]
  },
  {
   "cell_type": "code",
   "execution_count": 9,
   "id": "5b9c5873",
   "metadata": {},
   "outputs": [
    {
     "name": "stdout",
     "output_type": "stream",
     "text": [
      "19994\n"
     ]
    }
   ],
   "source": [
    "# Split the text data based on multiple delimiters\n",
    "words = re.split(r'[ ,.\\n]+', data)\n",
    "print(len(set(words)))"
   ]
  },
  {
   "cell_type": "code",
   "execution_count": 22,
   "id": "87e6128d",
   "metadata": {},
   "outputs": [
    {
     "name": "stdout",
     "output_type": "stream",
     "text": [
      "tensor(78)\n",
      "yes\n"
     ]
    }
   ],
   "source": [
    "t = torch.randint(0, 100, (2, 2, 2))\n",
    "print(t[0, -1, -1])\n",
    "if t[0, -1, -1] in torch.tensor([77, 78]):\n",
    "    print(\"yes\")"
   ]
  },
  {
   "cell_type": "code",
   "execution_count": 2,
   "id": "a7d30ef1",
   "metadata": {},
   "outputs": [
    {
     "ename": "RuntimeError",
     "evalue": "random_ expects 'from' to be less than 'to', but got from=0 >= to=0",
     "output_type": "error",
     "traceback": [
      "\u001b[31m---------------------------------------------------------------------------\u001b[39m",
      "\u001b[31mRuntimeError\u001b[39m                              Traceback (most recent call last)",
      "\u001b[36mCell\u001b[39m\u001b[36m \u001b[39m\u001b[32mIn[2]\u001b[39m\u001b[32m, line 1\u001b[39m\n\u001b[32m----> \u001b[39m\u001b[32m1\u001b[39m \u001b[43mtorch\u001b[49m\u001b[43m.\u001b[49m\u001b[43mrandint\u001b[49m\u001b[43m(\u001b[49m\u001b[32;43m0\u001b[39;49m\u001b[43m,\u001b[49m\u001b[32;43m0\u001b[39;49m\u001b[43m,\u001b[49m\u001b[43m \u001b[49m\u001b[43m(\u001b[49m\u001b[32;43m1\u001b[39;49m\u001b[43m,\u001b[49m\u001b[43m \u001b[49m\u001b[43m)\u001b[49m\u001b[43m)\u001b[49m\n",
      "\u001b[31mRuntimeError\u001b[39m: random_ expects 'from' to be less than 'to', but got from=0 >= to=0"
     ]
    }
   ],
   "source": [
    "torch.randint(0,0, (1, ))"
   ]
  }
 ],
 "metadata": {
  "kernelspec": {
   "display_name": "Python 3",
   "language": "python",
   "name": "python3"
  },
  "language_info": {
   "codemirror_mode": {
    "name": "ipython",
    "version": 3
   },
   "file_extension": ".py",
   "mimetype": "text/x-python",
   "name": "python",
   "nbconvert_exporter": "python",
   "pygments_lexer": "ipython3",
   "version": "3.13.1"
  }
 },
 "nbformat": 4,
 "nbformat_minor": 5
}
