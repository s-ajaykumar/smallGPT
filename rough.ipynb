{
 "cells": [
  {
   "cell_type": "code",
   "execution_count": null,
   "id": "51ea09a8",
   "metadata": {},
   "outputs": [
    {
     "data": {
      "text/plain": [
       "'Before we proceed any further, hear me speak.\\n'"
      ]
     },
     "execution_count": 6,
     "metadata": {},
     "output_type": "execute_result"
    }
   ],
   "source": [
    "with open('data/shakesphere.txt', 'r') as f:\n",
    "    lines = f.readlines()\n",
    "text[1]"
   ]
  },
  {
   "cell_type": "code",
   "execution_count": null,
   "id": "315d33a3",
   "metadata": {},
   "outputs": [],
   "source": []
  },
  {
   "cell_type": "code",
   "execution_count": null,
   "id": "91b7a252",
   "metadata": {},
   "outputs": [],
   "source": [
    "import re\n",
    "\n",
    "def split_words_with_endings(text):\n",
    "    \"\"\"\n",
    "    Split text into words while preserving ending characters\n",
    "    \"\"\"\n",
    "    # This regex captures:\n",
    "    # - Word characters followed by any non-word character(s)\n",
    "    # - Or standalone non-word characters (like standalone punctuation)\n",
    "    pattern = r'\\S+\\s*|\\s+'\n",
    "    \n",
    "    words = re.findall(pattern, text)\n",
    "    \n",
    "    # Filter out empty strings\n",
    "    words = [word for word in words if word.strip()]\n",
    "    \n",
    "    return words\n",
    "\n",
    "def split_words_alternative(text):\n",
    "    \"\"\"\n",
    "    Alternative approach using character-by-character processing\n",
    "    \"\"\"\n",
    "    words = []\n",
    "    current_word = \"\"\n",
    "    \n",
    "    for char in text:\n",
    "        current_word += char\n",
    "        \n",
    "        # If we hit whitespace, punctuation, or newline after a word character\n",
    "        if char in [' ', '\\n', '\\t'] or (char in '.,!?;:'):\n",
    "            if current_word.strip():  # Only add non-empty words\n",
    "                words.append(current_word)\n",
    "                current_word = \"\"\n",
    "    \n",
    "    # Add the last word if there's any remaining content\n",
    "    if current_word.strip():\n",
    "        words.append(current_word)\n",
    "    \n",
    "    return words\n",
    "\n",
    "# Read the file\n",
    "with open('your_file.txt', 'r', encoding='utf-8') as file:\n",
    "    content = file.read()\n",
    "\n",
    "# Method 1: Using regex\n",
    "words_regex = split_words_with_endings(content)\n",
    "\n",
    "# Method 2: Using character processing\n",
    "words_alternative = split_words_alternative(content)\n",
    "\n",
    "# Display results\n",
    "print(\"Method 1 (Regex) - First 10 words:\")\n",
    "for i, word in enumerate(words_regex[:10]):\n",
    "    print(f\"{i+1}: '{word}' (ending: '{word[-1] if word else ''}')\")\n",
    "\n",
    "print(\"\\nMethod 2 (Alternative) - First 10 words:\")\n",
    "for i, word in enumerate(words_alternative[:10]):\n",
    "    print(f\"{i+1}: '{word}' (ending: '{word[-1] if word else ''}')\")\n",
    "\n",
    "# Save results to files\n",
    "with open('words_output.txt', 'w', encoding='utf-8') as f:\n",
    "    for i, word in enumerate(words_regex):\n",
    "        f.write(f\"Word {i+1}: '{word}'\\n\")\n",
    "\n",
    "print(f\"\\nTotal words found: {len(words_regex)}\")"
   ]
  }
 ],
 "metadata": {
  "kernelspec": {
   "display_name": ".venv",
   "language": "python",
   "name": "python3"
  },
  "language_info": {
   "codemirror_mode": {
    "name": "ipython",
    "version": 3
   },
   "file_extension": ".py",
   "mimetype": "text/x-python",
   "name": "python",
   "nbconvert_exporter": "python",
   "pygments_lexer": "ipython3",
   "version": "3.12.8"
  }
 },
 "nbformat": 4,
 "nbformat_minor": 5
}
